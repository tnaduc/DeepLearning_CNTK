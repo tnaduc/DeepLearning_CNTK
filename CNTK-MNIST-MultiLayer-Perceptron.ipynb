{
 "cells": [
  {
   "cell_type": "markdown",
   "metadata": {},
   "source": [
    "# Classify MNIST digits using Multilayer Perceptron - CNTK\n",
    "\n",
    "Exploring CNTK machine learning/ deep learning capability with MNIST dataset."
   ]
  },
  {
   "cell_type": "code",
   "execution_count": 1,
   "metadata": {
    "collapsed": true
   },
   "outputs": [],
   "source": [
    "import sys\n",
    "import os\n",
    "import matplotlib.pyplot as plt\n",
    "%matplotlib inline"
   ]
  },
  {
   "cell_type": "code",
   "execution_count": 2,
   "metadata": {
    "collapsed": true
   },
   "outputs": [],
   "source": [
    "import numpy as np\n",
    "import cntk as C"
   ]
  },
  {
   "cell_type": "code",
   "execution_count": 3,
   "metadata": {
    "collapsed": true
   },
   "outputs": [],
   "source": [
    "path= \"data\\MNIST\""
   ]
  },
  {
   "cell_type": "markdown",
   "metadata": {},
   "source": [
    "# Data I/O\n",
    "We need to read the data into CNTK data structure format. First, let's get the shapes of input data and label. Then, locate data files as well."
   ]
  },
  {
   "cell_type": "code",
   "execution_count": 4,
   "metadata": {
    "collapsed": true
   },
   "outputs": [],
   "source": [
    "nb_input = 60000\n",
    "input_size = 28*28\n",
    "label_size = 10"
   ]
  },
  {
   "cell_type": "code",
   "execution_count": 5,
   "metadata": {
    "collapsed": false
   },
   "outputs": [],
   "source": [
    "train_file = os.path.join(path, \"Train-28x28_cntk_text.txt\")\n",
    "valid_file = os.path.join(path, \"Test-28x28_cntk_text.txt\")"
   ]
  },
  {
   "cell_type": "markdown",
   "metadata": {},
   "source": [
    "Modern machine learning uses mini-batch gradient descent optimization algorithms, therefore, it requires a procedure to stream mini-batch into the model being trained. CNTK provides methods to do this, though, it is a little bit complicated. "
   ]
  },
  {
   "cell_type": "code",
   "execution_count": 6,
   "metadata": {
    "collapsed": false
   },
   "outputs": [],
   "source": [
    "labelStream = C.io.StreamDef(field='labels', shape=label_size, is_sparse=False)\n",
    "featureStream = C.io.StreamDef(field='features', shape=input_size, is_sparse=False)"
   ]
  },
  {
   "cell_type": "code",
   "execution_count": 7,
   "metadata": {
    "collapsed": true
   },
   "outputs": [],
   "source": [
    "train_deserailizer = C.io.CTFDeserializer(train_file, C.io.StreamDefs(labels = labelStream, features = featureStream))\n",
    "valid_deserailizer = C.io.CTFDeserializer(valid_file, C.io.StreamDefs(labels = labelStream, features = featureStream))"
   ]
  },
  {
   "cell_type": "markdown",
   "metadata": {},
   "source": [
    "Now, we define the train and test data loadder to feed to training and testing models. The only difference is during training we will randomize the data loading process and we can load the entire dataset multiple times (many epochs). Whereas, we only load the test data once and we do not need to ramdomize it."
   ]
  },
  {
   "cell_type": "code",
   "execution_count": 8,
   "metadata": {
    "collapsed": true
   },
   "outputs": [],
   "source": [
    "train_loader = C.io.MinibatchSource(train_deserailizer,randomize = True, max_sweeps = C.io.INFINITELY_REPEAT)\n",
    "valid_loader = C.io.MinibatchSource(valid_deserailizer,randomize = False, max_sweeps = 1)"
   ]
  },
  {
   "cell_type": "markdown",
   "metadata": {},
   "source": [
    "# Building model\n",
    "\n",
    "### Input variables\n",
    "\n",
    "In CNTK, an input varibale is a placeholder in which data will be filled. The input varibales should be defined for all data, i.e., input and labels in the case of supervised learning. The input varibale in CNTK is similar to the placeholder in tensorFlow.\n",
    "\n",
    "For the MNIST problems, there are 2 CNTK input variables: flatten image pixels of the size 28x28 and the label of the size 10.\n",
    "\n",
    "\n",
    "**Note** We will normalized the gray-scale values of the pixel (ranging 0-255) to the range of 0-1. This is a common practice in machine learning, especially useful in the context of neural networks since we will later use activation functions such as sigmoid or softmax. Because these functions essentially squash the input value and output values between 0 and 1, very big input values are not prefer."
   ]
  },
  {
   "cell_type": "code",
   "execution_count": 9,
   "metadata": {
    "collapsed": false
   },
   "outputs": [],
   "source": [
    "input_var = C.input_variable(input_size) \n",
    "label = C.input_variable(label_size)"
   ]
  },
  {
   "cell_type": "markdown",
   "metadata": {},
   "source": [
    "## 2.1 A Multilayer Perceptron Model\n",
    "\n",
    "### 2.1.1 Model creation\n",
    "\n",
    "The design of multilayer perceptron model consists of specifying number of hidden (dense or fully connected) layers, size of each hidden layer, activation functions in hidden layers. "
   ]
  },
  {
   "cell_type": "code",
   "execution_count": 10,
   "metadata": {
    "collapsed": true
   },
   "outputs": [],
   "source": [
    "nb_dense_layers = 3\n",
    "dense_layer_size = [300, 400, 500]"
   ]
  },
  {
   "cell_type": "code",
   "execution_count": 11,
   "metadata": {
    "collapsed": true
   },
   "outputs": [],
   "source": [
    "def MLP_model(data, nb_dense_layers, dense_layer_size, output_size):\n",
    "    with C.layers.default_options(init = C.glorot_uniform(), activation = C.ops.relu):\n",
    "        input = data\n",
    "        for i in range(nb_dense_layers):\n",
    "            input = C.layers.Dense(dense_layer_size[i])(input)\n",
    "        output = C.layers.Dense(output_size, activation = None)(input)\n",
    "        return output"
   ]
  },
  {
   "cell_type": "code",
   "execution_count": 12,
   "metadata": {
    "collapsed": false
   },
   "outputs": [],
   "source": [
    "MLP_Model = MLP_model(input_var/225, nb_dense_layers, dense_layer_size, label_size) # Normalize the input to 0-1"
   ]
  },
  {
   "cell_type": "markdown",
   "metadata": {},
   "source": [
    "Now, take a look into the output object."
   ]
  },
  {
   "cell_type": "code",
   "execution_count": 13,
   "metadata": {
    "collapsed": false
   },
   "outputs": [
    {
     "name": "stdout",
     "output_type": "stream",
     "text": [
      "Composite(Tensor[784]) -> Tensor[10]\n"
     ]
    }
   ],
   "source": [
    "print(MLP_Model)"
   ]
  },
  {
   "cell_type": "code",
   "execution_count": 14,
   "metadata": {
    "collapsed": false
   },
   "outputs": [
    {
     "data": {
      "text/plain": [
       "(Parameter('W', [], [500 x 10]),\n",
       " Parameter('b', [], [10]),\n",
       " Parameter('W', [], [400 x 500]),\n",
       " Parameter('b', [], [500]),\n",
       " Parameter('W', [], [300 x 400]),\n",
       " Parameter('b', [], [400]),\n",
       " Parameter('W', [], [784 x 300]),\n",
       " Parameter('b', [], [300]))"
      ]
     },
     "execution_count": 14,
     "metadata": {},
     "output_type": "execute_result"
    }
   ],
   "source": [
    "MLP_Model.parameters"
   ]
  },
  {
   "cell_type": "markdown",
   "metadata": {},
   "source": [
    "We can see the parameters of the model, which will be learned, includes 4 weight matrices W of the size 784x300, 300x400, 400x500, 500x10 and bias vectors b of the size 300, 400, 500, 10, respectively. This is exactly the body part of a logistic regression model. \n",
    "\n",
    "To have a full multilayer perceptron model, we will squash the output to probabilities, i.e., to output values between 0 and 1 using softmax activation layer."
   ]
  },
  {
   "cell_type": "markdown",
   "metadata": {},
   "source": [
    "### 2.1.2 Multilayer perceptron loss function\n",
    "\n",
    "In CNTK, softmax and cross-entropy are combined into a function called *cross_entropy_with_softmax*."
   ]
  },
  {
   "cell_type": "code",
   "execution_count": 15,
   "metadata": {
    "collapsed": false
   },
   "outputs": [],
   "source": [
    "MLP_loss = C.cross_entropy_with_softmax(MLP_Model, label)"
   ]
  },
  {
   "cell_type": "markdown",
   "metadata": {},
   "source": [
    "We also record the classification error between output and label (ground truth) during training."
   ]
  },
  {
   "cell_type": "code",
   "execution_count": 16,
   "metadata": {
    "collapsed": true
   },
   "outputs": [],
   "source": [
    "MLP_error = C.classification_error(MLP_Model, label)"
   ]
  },
  {
   "cell_type": "markdown",
   "metadata": {},
   "source": [
    "### 2.1.3 Setup training parameters\n",
    "Next, we will plan out our training. In particular, we need to set the following hyperparameters:\n",
    "\n",
    "- A learning rate schedule: this is the learning rate profile used during training, we can set it to be uniform (constant) all the time or let the learning rate decay exponentially.\n",
    "- An optization algorithm: the logistic regression model is based on maximum likelihood pricipal, hence, an optimzation mechanism is needed.\n",
    "- Minibatch size: to speed up the learning process, we will not optimize the entire data batch once but divide it into small batches. Thus, we need to define how many data points we will load each time, i.e., minibatch size.\n",
    "- Number of epochs: how many time we want to pass the entire input dataset through the model.\n"
   ]
  },
  {
   "cell_type": "code",
   "execution_count": 17,
   "metadata": {
    "collapsed": true
   },
   "outputs": [],
   "source": [
    "lr = 0.3\n",
    "lr_schedule = C.learning_rate_schedule(lr, C.UnitType.minibatch)"
   ]
  },
  {
   "cell_type": "code",
   "execution_count": 18,
   "metadata": {
    "collapsed": false
   },
   "outputs": [],
   "source": [
    "learner = C.sgd(MLP_Model.parameters, lr_schedule)\n",
    "trainer = C.Trainer(MLP_Model, (MLP_loss, MLP_error), [learner])"
   ]
  },
  {
   "cell_type": "markdown",
   "metadata": {},
   "source": [
    "Here, in CNTK, \n",
    "\n",
    "- learner is an object that holds all the hyperparemeters neccessary in training process. It contains information about the weights and biases to be learned, the learning rate, the optimzation algorithms in this case, the stochastic gradient descent.\n",
    "\n",
    "- trainer is another CNTK object that will lay out how the training process will be done. It contains the model used, e.g., multi-class logistic regression, the loss function to optimize, the error to record, and all the information of the learner.\n"
   ]
  },
  {
   "cell_type": "code",
   "execution_count": 19,
   "metadata": {
    "collapsed": false
   },
   "outputs": [],
   "source": [
    "minibatch_size = 128\n",
    "nb_epoch = 10"
   ]
  },
  {
   "cell_type": "markdown",
   "metadata": {},
   "source": [
    "We will create a loop to pass all the minibatch to the trainer, hence, we need to calculate how many total number minibatch we will process."
   ]
  },
  {
   "cell_type": "code",
   "execution_count": 20,
   "metadata": {
    "collapsed": false
   },
   "outputs": [
    {
     "data": {
      "text/plain": [
       "4688"
      ]
     },
     "execution_count": 20,
     "metadata": {},
     "output_type": "execute_result"
    }
   ],
   "source": [
    "nb_batches = round((nb_input*nb_epoch)/minibatch_size)\n",
    "nb_batches"
   ]
  },
  {
   "cell_type": "markdown",
   "metadata": {},
   "source": [
    "### 2.1.4 Training\n",
    "Now, we are ready to proceed training."
   ]
  },
  {
   "cell_type": "code",
   "execution_count": 21,
   "metadata": {
    "collapsed": true
   },
   "outputs": [],
   "source": [
    "def fit_data(trainer, minibatch_size, nb_batches, input_dict, print_frequency, verbose = True):\n",
    "    train_history = {\"minibatch\":[], \"loss\":[], \"error\":[]}\n",
    "    for batch_number in range(nb_batches):\n",
    "        data = train_loader.next_minibatch(minibatch_size, input_map = train_dict)\n",
    "        trainer.train_minibatch(data)        \n",
    "        if (batch_number % print_frequency == 0) : # Time to print some result\n",
    "            loss = trainer.previous_minibatch_loss_average\n",
    "            error = trainer.previous_minibatch_evaluation_average\n",
    "            if verbose:\n",
    "                print(\"Current minibatch: {}, loss: {}, error: {}\".format(batch_number, loss, error*100))\n",
    "            train_history[\"minibatch\"].append(batch_number)\n",
    "            train_history[\"loss\"].append(loss)\n",
    "            train_history[\"error\"].append(error)\n",
    "    return train_history"
   ]
  },
  {
   "cell_type": "code",
   "execution_count": 24,
   "metadata": {
    "collapsed": false
   },
   "outputs": [],
   "source": [
    "train_loader = C.io.MinibatchSource(train_deserailizer,randomize = True, max_sweeps = C.io.INFINITELY_REPEAT)\n",
    "train_dict = {label : train_loader.streams.labels, input_var : train_loader.streams.features}"
   ]
  },
  {
   "cell_type": "code",
   "execution_count": 25,
   "metadata": {
    "collapsed": false
   },
   "outputs": [
    {
     "name": "stdout",
     "output_type": "stream",
     "text": [
      "Current minibatch: 0, loss: 2.281973361968994, error: 85.9375\n",
      "Current minibatch: 500, loss: 0.1339631825685501, error: 4.6875\n",
      "Current minibatch: 1000, loss: 0.03303167223930359, error: 0.78125\n",
      "Current minibatch: 1500, loss: 0.007529988884925842, error: 0.0\n",
      "Current minibatch: 2000, loss: 0.01985211670398712, error: 0.78125\n",
      "Current minibatch: 2500, loss: 0.0038940906524658203, error: 0.0\n",
      "Current minibatch: 3000, loss: 0.0034787505865097046, error: 0.0\n",
      "Current minibatch: 3500, loss: 0.02382742241024971, error: 0.78125\n",
      "Current minibatch: 4000, loss: 0.004933331161737442, error: 0.0\n",
      "Current minibatch: 4500, loss: 0.0014215484261512756, error: 0.0\n"
     ]
    }
   ],
   "source": [
    "train_history= fit_data(trainer, minibatch_size, nb_batches, train_dict, print_frequency = 500, verbose = True)"
   ]
  },
  {
   "cell_type": "code",
   "execution_count": 26,
   "metadata": {
    "collapsed": false
   },
   "outputs": [
    {
     "data": {
      "image/png": "[encoded data removed]",
      "text/plain": [
       "<matplotlib.figure.Figure at 0xa81e390>"
      ]
     },
     "metadata": {},
     "output_type": "display_data"
    },
    {
     "data": {
      "image/png": "[encoded data removed]",
      "text/plain": [
       "<matplotlib.figure.Figure at 0x23a5438>"
      ]
     },
     "metadata": {},
     "output_type": "display_data"
    }
   ],
   "source": [
    "plt.figure(1)\n",
    "plt.subplot(211)\n",
    "plt.plot(train_history[\"minibatch\"], train_history[\"loss\"], 'b--')\n",
    "plt.xlabel('Minibatch number')\n",
    "plt.ylabel('Loss')\n",
    "plt.title('Minibatch run vs. Training loss')\n",
    "\n",
    "plt.show()\n",
    "\n",
    "plt.subplot(212)\n",
    "plt.plot(train_history[\"minibatch\"], train_history[\"error\"], 'r--')\n",
    "plt.xlabel('Minibatch number')\n",
    "plt.ylabel('Label Prediction Error')\n",
    "plt.title('Minibatch run vs. Label Prediction Error')\n",
    "plt.show()"
   ]
  },
  {
   "cell_type": "markdown",
   "metadata": {},
   "source": [
    "As shown, the training curve is bumpy but the general trend is downward, this is due to minibatch training. We can visualize the training process better by running the loss and error data through a moving avarage filter. It will smooth out the curve."
   ]
  },
  {
   "cell_type": "markdown",
   "metadata": {},
   "source": [
    "### 2.2.5 Validation"
   ]
  },
  {
   "cell_type": "code",
   "execution_count": 27,
   "metadata": {
    "collapsed": true
   },
   "outputs": [],
   "source": [
    "def evaluate(trainer, valid_sample_size):\n",
    "    result = 0.0\n",
    "    valid_loader = C.io.MinibatchSource(valid_deserailizer,randomize = False, max_sweeps = 1)\n",
    "    valid_dict = {label : valid_loader.streams.labels, input_var : valid_loader.streams.features}\n",
    "    for image in range(valid_sample_size):\n",
    "        data = valid_loader.next_minibatch(1, input_map = valid_dict)\n",
    "        valid_error = trainer.test_minibatch(data)        \n",
    "        result += valid_error\n",
    "    average_result = result * 100.0/valid_sample_size\n",
    "    print(\"average validation error: {0:.2f}% \".format(average_result))\n",
    "    return average_result"
   ]
  },
  {
   "cell_type": "code",
   "execution_count": 28,
   "metadata": {
    "collapsed": false,
    "scrolled": true
   },
   "outputs": [],
   "source": [
    "valid_sample_size = 10000"
   ]
  },
  {
   "cell_type": "code",
   "execution_count": 29,
   "metadata": {
    "collapsed": false
   },
   "outputs": [
    {
     "name": "stdout",
     "output_type": "stream",
     "text": [
      "average validation error: 1.98% \n"
     ]
    }
   ],
   "source": [
    "valid_error = evaluate(trainer, valid_sample_size)"
   ]
  },
  {
   "cell_type": "markdown",
   "metadata": {},
   "source": [
    "We got a validation error rate around 2%. Let's check some images."
   ]
  },
  {
   "cell_type": "code",
   "execution_count": 30,
   "metadata": {
    "collapsed": true
   },
   "outputs": [],
   "source": [
    "valid_loader = C.io.MinibatchSource(valid_deserailizer,randomize = False, max_sweeps = 1)\n",
    "valid_dict = {label : valid_loader.streams.labels, input_var : valid_loader.streams.features}"
   ]
  },
  {
   "cell_type": "code",
   "execution_count": 31,
   "metadata": {
    "collapsed": true
   },
   "outputs": [],
   "source": [
    "valid_sample = valid_loader.next_minibatch(30, input_map = valid_dict)"
   ]
  },
  {
   "cell_type": "code",
   "execution_count": 32,
   "metadata": {
    "collapsed": false
   },
   "outputs": [],
   "source": [
    "labels = valid_sample[label].asarray()\n",
    "images = valid_sample[input_var].asarray()"
   ]
  },
  {
   "cell_type": "code",
   "execution_count": 35,
   "metadata": {
    "collapsed": false
   },
   "outputs": [],
   "source": [
    "pred = [np.argmax(C.softmax(MLP_Model).eval(images[i])) for i in range(30)]\n",
    "true_label = [np.argmax(labels[i]) for i in range(30)]"
   ]
  },
  {
   "cell_type": "code",
   "execution_count": 36,
   "metadata": {
    "collapsed": false
   },
   "outputs": [
    {
     "name": "stdout",
     "output_type": "stream",
     "text": [
      "Label    : [7, 2, 1, 0, 4, 1, 4, 9, 5, 9, 0, 6, 9, 0, 1, 5, 9, 7, 3, 4, 9, 6, 6, 5, 4, 0, 7, 4, 0, 1]\n",
      "Predicted: [7, 2, 1, 0, 4, 1, 4, 9, 5, 9, 0, 6, 9, 0, 1, 5, 9, 7, 3, 4, 9, 6, 6, 5, 4, 0, 7, 4, 0, 1]\n"
     ]
    }
   ],
   "source": [
    "print(\"Label    :\", true_label)\n",
    "print(\"Predicted:\", pred)"
   ]
  },
  {
   "cell_type": "code",
   "execution_count": 38,
   "metadata": {
    "collapsed": false
   },
   "outputs": [
    {
     "name": "stdout",
     "output_type": "stream",
     "text": [
      "Predicted Label:  0\n"
     ]
    },
    {
     "data": {
      "image/png": "[encoded data removed]",
      "text/plain": [
       "<matplotlib.figure.Figure at 0x8d9f9e8>"
      ]
     },
     "metadata": {},
     "output_type": "display_data"
    }
   ],
   "source": [
    "sample = 25\n",
    "plt.imshow(images[sample].reshape(28,28), cmap=\"gray_r\")\n",
    "plt.axis('off')\n",
    "\n",
    "img_pred = pred[sample]\n",
    "print(\"Predicted Label: \", img_pred)"
   ]
  },
  {
   "cell_type": "code",
   "execution_count": null,
   "metadata": {
    "collapsed": true
   },
   "outputs": [],
   "source": []
  }
 ],
 "metadata": {
  "kernelspec": {
   "display_name": "Python 3",
   "language": "python",
   "name": "python3"
  },
  "language_info": {
   "codemirror_mode": {
    "name": "ipython",
    "version": 3
   },
   "file_extension": ".py",
   "mimetype": "text/x-python",
   "name": "python",
   "nbconvert_exporter": "python",
   "pygments_lexer": "ipython3",
   "version": "3.6.0"
  }
 },
 "nbformat": 4,
 "nbformat_minor": 2
}
